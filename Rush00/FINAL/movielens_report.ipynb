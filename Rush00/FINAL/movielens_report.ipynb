{
 "cells": [
  {
   "cell_type": "markdown",
   "id": "f04b0153",
   "metadata": {
    "id": "f04b0153"
   },
   "source": [
    "# MovieLens dataset report\n",
    "## Prepare"
   ]
  },
  {
   "cell_type": "code",
   "execution_count": null,
   "id": "3FPkdxSHL1QM",
   "metadata": {
    "id": "3FPkdxSHL1QM"
   },
   "outputs": [
    {
     "ename": "",
     "evalue": "",
     "output_type": "error",
     "traceback": [
      "\u001b[1;31mRunning cells with 'Python 3.8.9 64-bit' requires ipykernel package.\n",
      "Run the following command to install 'ipykernel' into the Python environment. \n",
      "Command: '/usr/bin/python3 -m pip install ipykernel -U --user --force-reinstall'"
     ]
    }
   ],
   "source": [
    "from movielens_analysis import Movies, Links, Ratings, Tags, Statistics"
   ]
  },
  {
   "cell_type": "code",
   "execution_count": null,
   "id": "c436eb13",
   "metadata": {
    "id": "c436eb13"
   },
   "outputs": [
    {
     "ename": "",
     "evalue": "",
     "output_type": "error",
     "traceback": [
      "\u001b[1;31mRunning cells with 'Python 3.8.9 64-bit' requires ipykernel package.\n",
      "Run the following command to install 'ipykernel' into the Python environment. \n",
      "Command: '/usr/bin/python3 -m pip install ipykernel -U --user --force-reinstall'"
     ]
    }
   ],
   "source": [
    "MOVIES_CSV = 'ml-latest-small/movies.csv'\n",
    "LINKS_CSV = 'ml-latest-small/links.csv'\n",
    "RATINGS_CSV = 'ml-latest-small/ratings.csv'\n",
    "TAGS_CSV = 'ml-latest-small/tags.csv'"
   ]
  },
  {
   "cell_type": "markdown",
   "id": "5a7339ee",
   "metadata": {
    "id": "5a7339ee"
   },
   "source": [
    "## Movies analysis\n",
    "\n",
    "### Distribution by release year"
   ]
  },
  {
   "cell_type": "code",
   "execution_count": null,
   "id": "0c7e90dd",
   "metadata": {
    "id": "0c7e90dd"
   },
   "outputs": [
    {
     "ename": "",
     "evalue": "",
     "output_type": "error",
     "traceback": [
      "\u001b[1;31mRunning cells with 'Python 3.8.9 64-bit' requires ipykernel package.\n",
      "Run the following command to install 'ipykernel' into the Python environment. \n",
      "Command: '/usr/bin/python3 -m pip install ipykernel -U --user --force-reinstall'"
     ]
    }
   ],
   "source": [
    "movies = Movies(MOVIES_CSV)"
   ]
  },
  {
   "cell_type": "code",
   "execution_count": null,
   "id": "1594467c",
   "metadata": {
    "colab": {
     "base_uri": "https://localhost:8080/"
    },
    "executionInfo": {
     "elapsed": 4057,
     "status": "ok",
     "timestamp": 1663334831963,
     "user": {
      "displayName": "Irina Egorova",
      "userId": "04999751906045751774"
     },
     "user_tz": -180
    },
    "id": "1594467c",
    "outputId": "390a96d8-3830-4ba9-bda4-b462eeed2b1b"
   },
   "outputs": [
    {
     "ename": "",
     "evalue": "",
     "output_type": "error",
     "traceback": [
      "\u001b[1;31mRunning cells with 'Python 3.8.9 64-bit' requires ipykernel package.\n",
      "Run the following command to install 'ipykernel' into the Python environment. \n",
      "Command: '/usr/bin/python3 -m pip install ipykernel -U --user --force-reinstall'"
     ]
    }
   ],
   "source": [
    "%timeit movies.dist_by_release()\n",
    "dist_by_release = movies.dist_by_release()\n",
    "\n",
    "tmp = list(dist_by_release.items())\n",
    "for index in range(len(tmp)):\n",
    "    print(f'{tmp[index][0]} : {tmp[index][1]}', end='\\t')\n",
    "#     df.merge(tmp[index])\n",
    "    index += 1\n",
    "    if index % 5 == 0:\n",
    "        print()\n",
    "        \n",
    "        \n",
    "# print('\\n')"
   ]
  },
  {
   "cell_type": "code",
   "execution_count": null,
   "id": "e0dac8d0",
   "metadata": {},
   "outputs": [
    {
     "ename": "",
     "evalue": "",
     "output_type": "error",
     "traceback": [
      "\u001b[1;31mRunning cells with 'Python 3.8.9 64-bit' requires ipykernel package.\n",
      "Run the following command to install 'ipykernel' into the Python environment. \n",
      "Command: '/usr/bin/python3 -m pip install ipykernel -U --user --force-reinstall'"
     ]
    }
   ],
   "source": [
    "# положил данные в датафрейм\n",
    "import pandas as pd\n",
    "import numpy as np\n",
    "import matplotlib.pyplot as plt\n",
    "import matplotlib.ticker as ticker\n",
    "\n",
    "dict1 = dist_by_release.items()\n",
    "df = pd.DataFrame(dict1)\n",
    "# переименовал столбцы\n",
    "df.columns = ['Year', 'Count']\n",
    "df['Year'] = df['Year'].astype(str).astype(int)\n",
    "\n",
    "# отсортировал по годам\n",
    "df = df.sort_values(by=['Year'])\n",
    "\n",
    "plt.plot(df['Year'], df['Count'], label=\"Number of movie by year\", color ='blue', linewidth = 3)\n",
    "plt.axis([1900, 2020, 0, 350])\n",
    "plt.xticks(np.arange(1900, 2021,10))\n",
    "\n",
    "plt.tick_params(labelrotation = 90)    #  Поворот подписей\n",
    "plt.legend()\n",
    "plt.show()"
   ]
  },
  {
   "cell_type": "markdown",
   "id": "502e8821",
   "metadata": {
    "id": "502e8821"
   },
   "source": [
    "### Distribution of genres"
   ]
  },
  {
   "cell_type": "code",
   "execution_count": null,
   "id": "b9166f40",
   "metadata": {
    "colab": {
     "base_uri": "https://localhost:8080/"
    },
    "executionInfo": {
     "elapsed": 3993,
     "status": "ok",
     "timestamp": 1663334835945,
     "user": {
      "displayName": "Irina Egorova",
      "userId": "04999751906045751774"
     },
     "user_tz": -180
    },
    "id": "b9166f40",
    "outputId": "efeda85d-6d35-4d3d-ce0a-0586a9a08a0e"
   },
   "outputs": [
    {
     "ename": "",
     "evalue": "",
     "output_type": "error",
     "traceback": [
      "\u001b[1;31mRunning cells with 'Python 3.8.9 64-bit' requires ipykernel package.\n",
      "Run the following command to install 'ipykernel' into the Python environment. \n",
      "Command: '/usr/bin/python3 -m pip install ipykernel -U --user --force-reinstall'"
     ]
    }
   ],
   "source": [
    "%timeit movies.dist_by_genres()\n",
    "movies = Movies(MOVIES_CSV)\n",
    "\n",
    "for key, value in movies.dist_by_genres().items():\n",
    "    print(f'{key:<20} : {value}')\n",
    "\n",
    "print()"
   ]
  },
  {
   "cell_type": "code",
   "execution_count": null,
   "id": "6214b397",
   "metadata": {},
   "outputs": [
    {
     "ename": "",
     "evalue": "",
     "output_type": "error",
     "traceback": [
      "\u001b[1;31mRunning cells with 'Python 3.8.9 64-bit' requires ipykernel package.\n",
      "Run the following command to install 'ipykernel' into the Python environment. \n",
      "Command: '/usr/bin/python3 -m pip install ipykernel -U --user --force-reinstall'"
     ]
    }
   ],
   "source": [
    "data = movies.dist_by_genres().items()\n",
    "df = pd.DataFrame(data)\n",
    "df.columns = ['Genres', 'Number']\n",
    "df['Number'] = df['Number'].astype(str).astype(int)\n",
    "df.plot.bar(x='Genres', y='Number', label=\"Number of movies by genre\", color=('green'), width=0.5)\n",
    "plt.show()\n"
   ]
  },
  {
   "cell_type": "markdown",
   "id": "b179de39",
   "metadata": {
    "id": "b179de39"
   },
   "source": [
    "### 30 most genres films"
   ]
  },
  {
   "cell_type": "code",
   "execution_count": null,
   "id": "6f09adb7",
   "metadata": {
    "colab": {
     "base_uri": "https://localhost:8080/"
    },
    "executionInfo": {
     "elapsed": 7,
     "status": "ok",
     "timestamp": 1663334839176,
     "user": {
      "displayName": "Irina Egorova",
      "userId": "04999751906045751774"
     },
     "user_tz": -180
    },
    "id": "6f09adb7",
    "outputId": "008925f8-6fdc-4470-d7b5-c66e7129bef4"
   },
   "outputs": [
    {
     "ename": "",
     "evalue": "",
     "output_type": "error",
     "traceback": [
      "\u001b[1;31mRunning cells with 'Python 3.8.9 64-bit' requires ipykernel package.\n",
      "Run the following command to install 'ipykernel' into the Python environment. \n",
      "Command: '/usr/bin/python3 -m pip install ipykernel -U --user --force-reinstall'"
     ]
    }
   ],
   "source": [
    "%timeit movies.most_genres(30)\n",
    "movies = Movies(MOVIES_CSV)\n",
    "\n",
    "print(f'{\"Film\":<70}Ganres number')\n",
    "for key, value in movies.most_genres(30).items():\n",
    "    print(f'{key:<70}{value}')\n",
    "\n",
    "print()"
   ]
  },
  {
   "cell_type": "markdown",
   "id": "c3282e2c",
   "metadata": {
    "id": "c3282e2c"
   },
   "source": [
    "## Links analysis\n",
    "\n",
    "### Get imdb information"
   ]
  },
  {
   "cell_type": "markdown",
   "id": "YWywhNsWwOfI",
   "metadata": {
    "id": "YWywhNsWwOfI"
   },
   "source": []
  },
  {
   "cell_type": "code",
   "execution_count": null,
   "id": "7fe39aae",
   "metadata": {
    "colab": {
     "base_uri": "https://localhost:8080/"
    },
    "executionInfo": {
     "elapsed": 16,
     "status": "ok",
     "timestamp": 1663334849985,
     "user": {
      "displayName": "Irina Egorova",
      "userId": "04999751906045751774"
     },
     "user_tz": -180
    },
    "id": "7fe39aae",
    "outputId": "8c4c97a4-e552-41af-b937-c07e06cde11e"
   },
   "outputs": [
    {
     "ename": "",
     "evalue": "",
     "output_type": "error",
     "traceback": [
      "\u001b[1;31mRunning cells with 'Python 3.8.9 64-bit' requires ipykernel package.\n",
      "Run the following command to install 'ipykernel' into the Python environment. \n",
      "Command: '/usr/bin/python3 -m pip install ipykernel -U --user --force-reinstall'"
     ]
    }
   ],
   "source": [
    "%timeit links.get_imdb([1, 2, 3, 4], ['directors', 'wins', 'productionBudget', 'lifetimeGross', 'runtime'])\n",
    "print()\n",
    "\n",
    "fields = ['directors', 'wins', 'productionBudget', 'lifetimeGross', 'runtime']\n",
    "imdb_info = links.get_imdb([1, 3, 5, 7, 15], fields)\n",
    "\n",
    "print(f'{\"MovieID\":<16}{\"Directors\":<24}{\"Wins\":<15} {\"Budget\":<23} {\"Gross\":<23} {\"RunTime\":<15}')\n",
    "for movie in imdb_info:\n",
    "    print(*movie, sep='\\t\\t')"
   ]
  },
  {
   "cell_type": "markdown",
   "id": "a73f3da3",
   "metadata": {
    "id": "a73f3da3"
   },
   "source": [
    "### Top directors"
   ]
  },
  {
   "cell_type": "code",
   "execution_count": null,
   "id": "7db19e2d",
   "metadata": {
    "colab": {
     "base_uri": "https://localhost:8080/"
    },
    "executionInfo": {
     "elapsed": 6,
     "status": "ok",
     "timestamp": 1663334881994,
     "user": {
      "displayName": "Irina Egorova",
      "userId": "04999751906045751774"
     },
     "user_tz": -180
    },
    "id": "7db19e2d",
    "outputId": "da5500aa-7c8f-4edf-973d-ad431487a364"
   },
   "outputs": [
    {
     "ename": "",
     "evalue": "",
     "output_type": "error",
     "traceback": [
      "\u001b[1;31mRunning cells with 'Python 3.8.9 64-bit' requires ipykernel package.\n",
      "Run the following command to install 'ipykernel' into the Python environment. \n",
      "Command: '/usr/bin/python3 -m pip install ipykernel -U --user --force-reinstall'"
     ]
    }
   ],
   "source": [
    "%timeit -r 1 -n 1 links.top_directors(7)\n",
    "print()\n",
    "\n",
    "top_directors = links.top_directors(7)\n",
    "\n",
    "# print(len(top_directors))\n",
    "\n",
    "print(f'{\"Director\":<20}Films count')\n",
    "for key, value in top_directors.items():\n",
    "    if key is None:\n",
    "        key = 'Null'\n",
    "    print(f'{key:<20}{value}')"
   ]
  },
  {
   "cell_type": "markdown",
   "id": "3c6ad8b9",
   "metadata": {
    "id": "3c6ad8b9"
   },
   "source": [
    "### Most expensive films"
   ]
  },
  {
   "cell_type": "code",
   "execution_count": null,
   "id": "e16d5719",
   "metadata": {
    "colab": {
     "base_uri": "https://localhost:8080/"
    },
    "executionInfo": {
     "elapsed": 14,
     "status": "ok",
     "timestamp": 1663334890646,
     "user": {
      "displayName": "Irina Egorova",
      "userId": "04999751906045751774"
     },
     "user_tz": -180
    },
    "id": "e16d5719",
    "outputId": "f79ac01c-e57e-4c9a-beac-4df856444ee4",
    "scrolled": false
   },
   "outputs": [
    {
     "ename": "",
     "evalue": "",
     "output_type": "error",
     "traceback": [
      "\u001b[1;31mRunning cells with 'Python 3.8.9 64-bit' requires ipykernel package.\n",
      "Run the following command to install 'ipykernel' into the Python environment. \n",
      "Command: '/usr/bin/python3 -m pip install ipykernel -U --user --force-reinstall'"
     ]
    }
   ],
   "source": [
    "%timeit links.most_expensive(7)\n",
    "print()\n",
    "\n",
    "most_expensive = links.most_expensive(7)\n",
    "\n",
    "print(f'{\"Film\":<80}Budget')\n",
    "for key, value in most_expensive.items():\n",
    "    print(f'{key:<80}{value}')"
   ]
  },
  {
   "cell_type": "markdown",
   "id": "f83aea8e",
   "metadata": {
    "id": "f83aea8e"
   },
   "source": [
    "### Most profitable films"
   ]
  },
  {
   "cell_type": "code",
   "execution_count": null,
   "id": "69ab700e",
   "metadata": {
    "colab": {
     "base_uri": "https://localhost:8080/"
    },
    "executionInfo": {
     "elapsed": 13,
     "status": "ok",
     "timestamp": 1663334901346,
     "user": {
      "displayName": "Irina Egorova",
      "userId": "04999751906045751774"
     },
     "user_tz": -180
    },
    "id": "69ab700e",
    "outputId": "5473c021-3297-4718-c787-10a158363a2b"
   },
   "outputs": [
    {
     "ename": "",
     "evalue": "",
     "output_type": "error",
     "traceback": [
      "\u001b[1;31mRunning cells with 'Python 3.8.9 64-bit' requires ipykernel package.\n",
      "Run the following command to install 'ipykernel' into the Python environment. \n",
      "Command: '/usr/bin/python3 -m pip install ipykernel -U --user --force-reinstall'"
     ]
    }
   ],
   "source": [
    "%timeit links.most_profitable(7)\n",
    "print()\n",
    "\n",
    "most_profitable = links.most_profitable(7)\n",
    "\n",
    "print(f'{\"Film\":<80}Profit')\n",
    "for key, value in most_profitable.items():\n",
    "    print(f'{key:<80}{value}')"
   ]
  },
  {
   "cell_type": "markdown",
   "id": "3b0602ff",
   "metadata": {
    "id": "3b0602ff"
   },
   "source": [
    "### Longest films"
   ]
  },
  {
   "cell_type": "code",
   "execution_count": null,
   "id": "59a7f0d2",
   "metadata": {
    "colab": {
     "base_uri": "https://localhost:8080/"
    },
    "executionInfo": {
     "elapsed": 14,
     "status": "ok",
     "timestamp": 1663334909809,
     "user": {
      "displayName": "Irina Egorova",
      "userId": "04999751906045751774"
     },
     "user_tz": -180
    },
    "id": "59a7f0d2",
    "outputId": "163ae2c6-203a-4cf6-cb44-898857a25cda"
   },
   "outputs": [
    {
     "ename": "",
     "evalue": "",
     "output_type": "error",
     "traceback": [
      "\u001b[1;31mRunning cells with 'Python 3.8.9 64-bit' requires ipykernel package.\n",
      "Run the following command to install 'ipykernel' into the Python environment. \n",
      "Command: '/usr/bin/python3 -m pip install ipykernel -U --user --force-reinstall'"
     ]
    }
   ],
   "source": [
    "%timeit links.longest(7)\n",
    "print()\n",
    "\n",
    "longest = links.longest(7)\n",
    "\n",
    "print(f'{\"Film\":<80}Runtime')\n",
    "for key, value in longest.items():\n",
    "    print(f'{key:<80}{value}')"
   ]
  },
  {
   "cell_type": "markdown",
   "id": "f376fce9",
   "metadata": {
    "id": "f376fce9"
   },
   "source": [
    "### Cost per unit top"
   ]
  },
  {
   "cell_type": "code",
   "execution_count": null,
   "id": "ab0d2bc0",
   "metadata": {
    "colab": {
     "base_uri": "https://localhost:8080/"
    },
    "executionInfo": {
     "elapsed": 16,
     "status": "ok",
     "timestamp": 1663334919796,
     "user": {
      "displayName": "Irina Egorova",
      "userId": "04999751906045751774"
     },
     "user_tz": -180
    },
    "id": "ab0d2bc0",
    "outputId": "8fb0ceb9-da59-4709-9b61-1e1db9d1b679"
   },
   "outputs": [
    {
     "ename": "",
     "evalue": "",
     "output_type": "error",
     "traceback": [
      "\u001b[1;31mRunning cells with 'Python 3.8.9 64-bit' requires ipykernel package.\n",
      "Run the following command to install 'ipykernel' into the Python environment. \n",
      "Command: '/usr/bin/python3 -m pip install ipykernel -U --user --force-reinstall'"
     ]
    }
   ],
   "source": [
    "%timeit links.top_cost_per_minute(7)\n",
    "print()\n",
    "\n",
    "top_cost_per_minute = links.top_cost_per_minute(20)\n",
    "\n",
    "print(f'{\"Film\":<80}Cost per minute')\n",
    "for key, value in top_cost_per_minute.items():\n",
    "    print(f'{key:<80}{value}')"
   ]
  },
  {
   "cell_type": "markdown",
   "id": "534e6b95",
   "metadata": {},
   "source": [
    "## Top winners"
   ]
  },
  {
   "cell_type": "code",
   "execution_count": null,
   "id": "f3d8e80f",
   "metadata": {},
   "outputs": [
    {
     "ename": "",
     "evalue": "",
     "output_type": "error",
     "traceback": [
      "\u001b[1;31mRunning cells with 'Python 3.8.9 64-bit' requires ipykernel package.\n",
      "Run the following command to install 'ipykernel' into the Python environment. \n",
      "Command: '/usr/bin/python3 -m pip install ipykernel -U --user --force-reinstall'"
     ]
    }
   ],
   "source": [
    "%timeit links.top_winners(7)\n",
    "print()\n",
    "\n",
    "top_winners = links.top_winners(7)\n",
    "\n",
    "print(f'{\"Film\":<60}Number of Awards')\n",
    "for key, value in top_winners.items():\n",
    "    print(f'{key:<60}{value}')"
   ]
  },
  {
   "cell_type": "markdown",
   "id": "7a5fa383",
   "metadata": {},
   "source": [
    "## ROC"
   ]
  },
  {
   "cell_type": "code",
   "execution_count": null,
   "id": "69bee672",
   "metadata": {},
   "outputs": [
    {
     "ename": "",
     "evalue": "",
     "output_type": "error",
     "traceback": [
      "\u001b[1;31mRunning cells with 'Python 3.8.9 64-bit' requires ipykernel package.\n",
      "Run the following command to install 'ipykernel' into the Python environment. \n",
      "Command: '/usr/bin/python3 -m pip install ipykernel -U --user --force-reinstall'"
     ]
    }
   ],
   "source": [
    "%timeit links.top_ROC_in_prct(7)\n",
    "print()\n",
    "\n",
    "top_ROC = links.top_ROC_in_prct(7)\n",
    "\n",
    "print(f'{\"Film\":<60}Return On Costs')\n",
    "for key, value in top_ROC.items():\n",
    "    print(f'{key:<60}{value}')"
   ]
  },
  {
   "cell_type": "markdown",
   "id": "c5c03a30",
   "metadata": {
    "id": "c5c03a30"
   },
   "source": [
    "## Ratings.Movies analysis\n",
    "### Distribution of ratings count by year"
   ]
  },
  {
   "cell_type": "code",
   "execution_count": null,
   "id": "ce81db38",
   "metadata": {
    "id": "ce81db38"
   },
   "outputs": [
    {
     "ename": "",
     "evalue": "",
     "output_type": "error",
     "traceback": [
      "\u001b[1;31mRunning cells with 'Python 3.8.9 64-bit' requires ipykernel package.\n",
      "Run the following command to install 'ipykernel' into the Python environment. \n",
      "Command: '/usr/bin/python3 -m pip install ipykernel -U --user --force-reinstall'"
     ]
    }
   ],
   "source": [
    "ratings = Ratings(RATINGS_CSV)\n",
    "movies_ratings = Ratings.Movies(ratings, movies)"
   ]
  },
  {
   "cell_type": "code",
   "execution_count": null,
   "id": "5f779268",
   "metadata": {
    "colab": {
     "base_uri": "https://localhost:8080/"
    },
    "executionInfo": {
     "elapsed": 525,
     "status": "ok",
     "timestamp": 1663334924096,
     "user": {
      "displayName": "Irina Egorova",
      "userId": "04999751906045751774"
     },
     "user_tz": -180
    },
    "id": "5f779268",
    "outputId": "c4301974-4779-4e37-db9f-201ff8e13e64",
    "scrolled": true
   },
   "outputs": [
    {
     "ename": "",
     "evalue": "",
     "output_type": "error",
     "traceback": [
      "\u001b[1;31mRunning cells with 'Python 3.8.9 64-bit' requires ipykernel package.\n",
      "Run the following command to install 'ipykernel' into the Python environment. \n",
      "Command: '/usr/bin/python3 -m pip install ipykernel -U --user --force-reinstall'"
     ]
    }
   ],
   "source": [
    "%timeit movies_ratings.dist_by_year()\n",
    "dist_by_year = movies_ratings.dist_by_year()\n",
    "\n",
    "print(f'{\"Year\":<6}Ratings count')\n",
    "for key, value in dist_by_year.items():\n",
    "    print(f'{key:<10}{value}')"
   ]
  },
  {
   "cell_type": "markdown",
   "id": "c754cd7f",
   "metadata": {
    "id": "c754cd7f"
   },
   "source": [
    "### Distribution of ratings count by rating value"
   ]
  },
  {
   "cell_type": "code",
   "execution_count": null,
   "id": "5d70af3d",
   "metadata": {
    "colab": {
     "base_uri": "https://localhost:8080/"
    },
    "executionInfo": {
     "elapsed": 6,
     "status": "ok",
     "timestamp": 1663334926391,
     "user": {
      "displayName": "Irina Egorova",
      "userId": "04999751906045751774"
     },
     "user_tz": -180
    },
    "id": "5d70af3d",
    "outputId": "32bf5f19-4770-4d8f-bb51-6f919680d387",
    "scrolled": false
   },
   "outputs": [
    {
     "ename": "",
     "evalue": "",
     "output_type": "error",
     "traceback": [
      "\u001b[1;31mRunning cells with 'Python 3.8.9 64-bit' requires ipykernel package.\n",
      "Run the following command to install 'ipykernel' into the Python environment. \n",
      "Command: '/usr/bin/python3 -m pip install ipykernel -U --user --force-reinstall'"
     ]
    }
   ],
   "source": [
    "%timeit movies_ratings.dist_by_rating()\n",
    "dist_by_rating = movies_ratings.dist_by_rating()\n",
    "print()\n",
    "print(f'{\"Rating value\":<15}Ratings count')\n",
    "for key, value in dist_by_rating.items():\n",
    "    print(f'{key:<15}{value}')"
   ]
  },
  {
   "cell_type": "markdown",
   "id": "e61f381c",
   "metadata": {},
   "source": [
    "### Distribution of ratings count by num of ratings"
   ]
  },
  {
   "cell_type": "code",
   "execution_count": null,
   "id": "39ea0d76",
   "metadata": {},
   "outputs": [
    {
     "ename": "",
     "evalue": "",
     "output_type": "error",
     "traceback": [
      "\u001b[1;31mRunning cells with 'Python 3.8.9 64-bit' requires ipykernel package.\n",
      "Run the following command to install 'ipykernel' into the Python environment. \n",
      "Command: '/usr/bin/python3 -m pip install ipykernel -U --user --force-reinstall'"
     ]
    }
   ],
   "source": [
    "%timeit movies_ratings.top_by_num_of_ratings(10)\n",
    "print()\n",
    "num_of_rating = movies_ratings.top_by_num_of_ratings(10)\n",
    "\n",
    "print(f'{\"Movie title\":<50}Num of ratings')\n",
    "for key, value in num_of_rating.items():\n",
    "    print(f'{key:<50}{value}')"
   ]
  },
  {
   "cell_type": "markdown",
   "id": "20ccbf2b",
   "metadata": {
    "id": "20ccbf2b"
   },
   "source": [
    "### Top movies by rating (average)"
   ]
  },
  {
   "cell_type": "code",
   "execution_count": null,
   "id": "a10dd01e",
   "metadata": {
    "colab": {
     "base_uri": "https://localhost:8080/"
    },
    "executionInfo": {
     "elapsed": 540,
     "status": "ok",
     "timestamp": 1663334929819,
     "user": {
      "displayName": "Irina Egorova",
      "userId": "04999751906045751774"
     },
     "user_tz": -180
    },
    "id": "a10dd01e",
    "outputId": "1c0d9993-f3e3-4322-87a8-23c446803bd4",
    "scrolled": false
   },
   "outputs": [
    {
     "ename": "",
     "evalue": "",
     "output_type": "error",
     "traceback": [
      "\u001b[1;31mRunning cells with 'Python 3.8.9 64-bit' requires ipykernel package.\n",
      "Run the following command to install 'ipykernel' into the Python environment. \n",
      "Command: '/usr/bin/python3 -m pip install ipykernel -U --user --force-reinstall'"
     ]
    }
   ],
   "source": [
    "%timeit movies_ratings.top_by_ratings(20)\n",
    "top_by_ratings = movies_ratings.top_by_ratings(20)\n",
    "\n",
    "print(f'{\"Movie\":<75}Average rating')\n",
    "for key, value in top_by_ratings.items():\n",
    "    print(f'{key:<75}{value}')"
   ]
  },
  {
   "cell_type": "markdown",
   "id": "c54730fc",
   "metadata": {
    "id": "c54730fc"
   },
   "source": [
    "### Top movies by rating (median)"
   ]
  },
  {
   "cell_type": "code",
   "execution_count": null,
   "id": "389d9705",
   "metadata": {
    "colab": {
     "base_uri": "https://localhost:8080/"
    },
    "executionInfo": {
     "elapsed": 529,
     "status": "ok",
     "timestamp": 1663334933212,
     "user": {
      "displayName": "Irina Egorova",
      "userId": "04999751906045751774"
     },
     "user_tz": -180
    },
    "id": "389d9705",
    "outputId": "f6e3e739-1585-48ed-9be1-c3707957e176",
    "scrolled": false
   },
   "outputs": [
    {
     "ename": "",
     "evalue": "",
     "output_type": "error",
     "traceback": [
      "\u001b[1;31mRunning cells with 'Python 3.8.9 64-bit' requires ipykernel package.\n",
      "Run the following command to install 'ipykernel' into the Python environment. \n",
      "Command: '/usr/bin/python3 -m pip install ipykernel -U --user --force-reinstall'"
     ]
    }
   ],
   "source": [
    "%timeit movies_ratings.top_by_ratings(20, metric=Statistics.median)\n",
    "top_by_ratings = movies_ratings.top_by_ratings(20, metric=Statistics.median)\n",
    "print()\n",
    "print(f'{\"Movie\":<75}Median rating')\n",
    "for key, value in top_by_ratings.items():\n",
    "    print(f'{key:<75}{value}')"
   ]
  },
  {
   "cell_type": "markdown",
   "id": "1648d934",
   "metadata": {
    "id": "1648d934"
   },
   "source": [
    "### Top controversial movies"
   ]
  },
  {
   "cell_type": "code",
   "execution_count": null,
   "id": "aef44f8e",
   "metadata": {
    "colab": {
     "base_uri": "https://localhost:8080/"
    },
    "executionInfo": {
     "elapsed": 517,
     "status": "ok",
     "timestamp": 1663334936435,
     "user": {
      "displayName": "Irina Egorova",
      "userId": "04999751906045751774"
     },
     "user_tz": -180
    },
    "id": "aef44f8e",
    "outputId": "c098f1df-c0ff-4b18-d98a-938ab2eefafb",
    "scrolled": false
   },
   "outputs": [
    {
     "ename": "",
     "evalue": "",
     "output_type": "error",
     "traceback": [
      "\u001b[1;31mRunning cells with 'Python 3.8.9 64-bit' requires ipykernel package.\n",
      "Run the following command to install 'ipykernel' into the Python environment. \n",
      "Command: '/usr/bin/python3 -m pip install ipykernel -U --user --force-reinstall'"
     ]
    }
   ],
   "source": [
    "%timeit movies_ratings.top_controversial(30)\n",
    "print()\n",
    "top_controversial = movies_ratings.top_controversial(30)\n",
    "\n",
    "print(f'{\"Movie\":<75}Rating variance')\n",
    "for key, value in top_controversial.items():\n",
    "    print(f'{key:<75}{value}')"
   ]
  },
  {
   "cell_type": "markdown",
   "id": "32cd4b89",
   "metadata": {
    "id": "32cd4b89"
   },
   "source": [
    "## Ratings.Users analysis\n",
    "### Distribution of users by ratings count"
   ]
  },
  {
   "cell_type": "code",
   "execution_count": null,
   "id": "529cccd3",
   "metadata": {
    "id": "529cccd3"
   },
   "outputs": [
    {
     "ename": "",
     "evalue": "",
     "output_type": "error",
     "traceback": [
      "\u001b[1;31mRunning cells with 'Python 3.8.9 64-bit' requires ipykernel package.\n",
      "Run the following command to install 'ipykernel' into the Python environment. \n",
      "Command: '/usr/bin/python3 -m pip install ipykernel -U --user --force-reinstall'"
     ]
    }
   ],
   "source": [
    "users_ratings = Ratings.Users(ratings, movies)"
   ]
  },
  {
   "cell_type": "code",
   "execution_count": null,
   "id": "fdf18ea1",
   "metadata": {
    "colab": {
     "base_uri": "https://localhost:8080/"
    },
    "executionInfo": {
     "elapsed": 387,
     "status": "ok",
     "timestamp": 1663334938981,
     "user": {
      "displayName": "Irina Egorova",
      "userId": "04999751906045751774"
     },
     "user_tz": -180
    },
    "id": "fdf18ea1",
    "outputId": "98ee2557-a2db-41ad-989d-e6f455824c01",
    "scrolled": true
   },
   "outputs": [
    {
     "ename": "",
     "evalue": "",
     "output_type": "error",
     "traceback": [
      "\u001b[1;31mRunning cells with 'Python 3.8.9 64-bit' requires ipykernel package.\n",
      "Run the following command to install 'ipykernel' into the Python environment. \n",
      "Command: '/usr/bin/python3 -m pip install ipykernel -U --user --force-reinstall'"
     ]
    }
   ],
   "source": [
    "%timeit users_ratings.dist_by_ratings_number()\n",
    "print()\n",
    "dist_by_ratings_number = users_ratings.dist_by_ratings_number()\n",
    "\n",
    "print(f'{\"User\":<8}Number of ratings')\n",
    "for key, value in dist_by_ratings_number.items():\n",
    "    print(f'{key:<8}{value}')"
   ]
  },
  {
   "cell_type": "markdown",
   "id": "60852230",
   "metadata": {
    "id": "60852230"
   },
   "source": [
    "### Distribution of users by ratings values (average)"
   ]
  },
  {
   "cell_type": "code",
   "execution_count": null,
   "id": "f63c1efb",
   "metadata": {
    "colab": {
     "base_uri": "https://localhost:8080/"
    },
    "executionInfo": {
     "elapsed": 535,
     "status": "ok",
     "timestamp": 1663334941828,
     "user": {
      "displayName": "Irina Egorova",
      "userId": "04999751906045751774"
     },
     "user_tz": -180
    },
    "id": "f63c1efb",
    "outputId": "dfa3dc1d-4788-4d16-cd69-fb0a334248fc",
    "scrolled": true
   },
   "outputs": [
    {
     "ename": "",
     "evalue": "",
     "output_type": "error",
     "traceback": [
      "\u001b[1;31mRunning cells with 'Python 3.8.9 64-bit' requires ipykernel package.\n",
      "Run the following command to install 'ipykernel' into the Python environment. \n",
      "Command: '/usr/bin/python3 -m pip install ipykernel -U --user --force-reinstall'"
     ]
    }
   ],
   "source": [
    "%timeit users_ratings.dist_by_ratings_values()\n",
    "print()\n",
    "dist_by_ratings_values = users_ratings.dist_by_ratings_values()\n",
    "\n",
    "print(f'{\"User\":<8}Average rating value')\n",
    "for key, value in dist_by_ratings_values.items():\n",
    "    print(f'{key:<8}{value}')"
   ]
  },
  {
   "cell_type": "markdown",
   "id": "5df28751",
   "metadata": {
    "id": "5df28751"
   },
   "source": [
    "### Distribution of users by ratings values (median)"
   ]
  },
  {
   "cell_type": "code",
   "execution_count": null,
   "id": "70d52b9b",
   "metadata": {
    "colab": {
     "base_uri": "https://localhost:8080/"
    },
    "executionInfo": {
     "elapsed": 532,
     "status": "ok",
     "timestamp": 1663334944564,
     "user": {
      "displayName": "Irina Egorova",
      "userId": "04999751906045751774"
     },
     "user_tz": -180
    },
    "id": "70d52b9b",
    "outputId": "a42d7dc4-42d7-4116-ae9c-063c61798a3c",
    "scrolled": true
   },
   "outputs": [
    {
     "ename": "",
     "evalue": "",
     "output_type": "error",
     "traceback": [
      "\u001b[1;31mRunning cells with 'Python 3.8.9 64-bit' requires ipykernel package.\n",
      "Run the following command to install 'ipykernel' into the Python environment. \n",
      "Command: '/usr/bin/python3 -m pip install ipykernel -U --user --force-reinstall'"
     ]
    }
   ],
   "source": [
    "%timeit users_ratings.dist_by_ratings_values(metric=Statistics.median)\n",
    "print()\n",
    "dist_by_ratings_values = users_ratings.dist_by_ratings_values(metric=Statistics.median)\n",
    "\n",
    "print(f'{\"User\":<8}Median of rating value')\n",
    "for key, value in dist_by_ratings_values.items():\n",
    "    print(f'{key:<8}{value}')"
   ]
  },
  {
   "cell_type": "markdown",
   "id": "7a3bf67e",
   "metadata": {
    "id": "7a3bf67e"
   },
   "source": [
    "### Top of users by variance of their ratings"
   ]
  },
  {
   "cell_type": "code",
   "execution_count": null,
   "id": "cbe58a11",
   "metadata": {
    "colab": {
     "base_uri": "https://localhost:8080/"
    },
    "executionInfo": {
     "elapsed": 514,
     "status": "ok",
     "timestamp": 1663334947768,
     "user": {
      "displayName": "Irina Egorova",
      "userId": "04999751906045751774"
     },
     "user_tz": -180
    },
    "id": "cbe58a11",
    "outputId": "02f67c3c-54d8-44e3-fd24-c97de6017e72",
    "scrolled": false
   },
   "outputs": [
    {
     "ename": "",
     "evalue": "",
     "output_type": "error",
     "traceback": [
      "\u001b[1;31mRunning cells with 'Python 3.8.9 64-bit' requires ipykernel package.\n",
      "Run the following command to install 'ipykernel' into the Python environment. \n",
      "Command: '/usr/bin/python3 -m pip install ipykernel -U --user --force-reinstall'"
     ]
    }
   ],
   "source": [
    "%timeit users_ratings.top_by_variance(30)\n",
    "print()\n",
    "top_by_variance = users_ratings.top_by_variance(30)\n",
    "\n",
    "print(f'{\"User\":<8}Variance of ratings')\n",
    "for key, value in top_by_variance.items():\n",
    "    print(f'{key:<8}{value}')"
   ]
  },
  {
   "cell_type": "markdown",
   "id": "d95c3d53",
   "metadata": {
    "id": "d95c3d53"
   },
   "source": [
    "## Tags analysis\n",
    "\n",
    "### Most words"
   ]
  },
  {
   "cell_type": "code",
   "execution_count": null,
   "id": "12651e86",
   "metadata": {
    "id": "12651e86"
   },
   "outputs": [
    {
     "ename": "",
     "evalue": "",
     "output_type": "error",
     "traceback": [
      "\u001b[1;31mRunning cells with 'Python 3.8.9 64-bit' requires ipykernel package.\n",
      "Run the following command to install 'ipykernel' into the Python environment. \n",
      "Command: '/usr/bin/python3 -m pip install ipykernel -U --user --force-reinstall'"
     ]
    }
   ],
   "source": [
    "tags = Tags(TAGS_CSV)"
   ]
  },
  {
   "cell_type": "code",
   "execution_count": null,
   "id": "18ca8a34",
   "metadata": {
    "colab": {
     "base_uri": "https://localhost:8080/"
    },
    "executionInfo": {
     "elapsed": 408,
     "status": "ok",
     "timestamp": 1663334948805,
     "user": {
      "displayName": "Irina Egorova",
      "userId": "04999751906045751774"
     },
     "user_tz": -180
    },
    "id": "18ca8a34",
    "outputId": "0e35e6f9-5a5c-46eb-b0dc-a7940e6c6069",
    "scrolled": false
   },
   "outputs": [
    {
     "ename": "",
     "evalue": "",
     "output_type": "error",
     "traceback": [
      "\u001b[1;31mRunning cells with 'Python 3.8.9 64-bit' requires ipykernel package.\n",
      "Run the following command to install 'ipykernel' into the Python environment. \n",
      "Command: '/usr/bin/python3 -m pip install ipykernel -U --user --force-reinstall'"
     ]
    }
   ],
   "source": [
    "%timeit tags.most_words(30)\n",
    "print()\n",
    "dist_by_release = tags.most_words(30)\n",
    "\n",
    "print(f'{\"Tag\":<90}Number of words')\n",
    "for key, value in dist_by_release.items():\n",
    "    print(f'{key:<90}{value}')"
   ]
  },
  {
   "cell_type": "markdown",
   "id": "b163862c",
   "metadata": {
    "id": "b163862c"
   },
   "source": [
    "### Longest"
   ]
  },
  {
   "cell_type": "code",
   "execution_count": null,
   "id": "6180088d",
   "metadata": {
    "colab": {
     "base_uri": "https://localhost:8080/"
    },
    "executionInfo": {
     "elapsed": 13,
     "status": "ok",
     "timestamp": 1663334958969,
     "user": {
      "displayName": "Irina Egorova",
      "userId": "04999751906045751774"
     },
     "user_tz": -180
    },
    "id": "6180088d",
    "outputId": "356f3e86-c6de-4584-dbc2-53bb9ae5bf4f",
    "scrolled": false
   },
   "outputs": [
    {
     "ename": "",
     "evalue": "",
     "output_type": "error",
     "traceback": [
      "\u001b[1;31mRunning cells with 'Python 3.8.9 64-bit' requires ipykernel package.\n",
      "Run the following command to install 'ipykernel' into the Python environment. \n",
      "Command: '/usr/bin/python3 -m pip install ipykernel -U --user --force-reinstall'"
     ]
    }
   ],
   "source": [
    "%timeit tags.longest(30)\n",
    "print()\n",
    "longest = tags.longest(30)\n",
    "\n",
    "print('Tag\\n---------')\n",
    "for tag in longest:\n",
    "    print(tag)"
   ]
  },
  {
   "cell_type": "markdown",
   "id": "7e621b74",
   "metadata": {
    "id": "7e621b74"
   },
   "source": [
    "### Most words and longest"
   ]
  },
  {
   "cell_type": "code",
   "execution_count": null,
   "id": "d3b10b26",
   "metadata": {
    "colab": {
     "base_uri": "https://localhost:8080/"
    },
    "executionInfo": {
     "elapsed": 5,
     "status": "ok",
     "timestamp": 1663334961420,
     "user": {
      "displayName": "Irina Egorova",
      "userId": "04999751906045751774"
     },
     "user_tz": -180
    },
    "id": "d3b10b26",
    "outputId": "dce380e3-9f86-414f-f760-3e9ff3d3baf4",
    "scrolled": false
   },
   "outputs": [
    {
     "ename": "",
     "evalue": "",
     "output_type": "error",
     "traceback": [
      "\u001b[1;31mRunning cells with 'Python 3.8.9 64-bit' requires ipykernel package.\n",
      "Run the following command to install 'ipykernel' into the Python environment. \n",
      "Command: '/usr/bin/python3 -m pip install ipykernel -U --user --force-reinstall'"
     ]
    }
   ],
   "source": [
    "%timeit tags.most_words_and_longest(30)\n",
    "print()\n",
    "most_words_and_longest = tags.most_words_and_longest(30)\n",
    "\n",
    "print('Tag\\n---------')\n",
    "for tag in most_words_and_longest:\n",
    "    print(tag)\n",
    "\n",
    "#нужно ли отсортировать по длине?"
   ]
  },
  {
   "cell_type": "markdown",
   "id": "c9ede0af",
   "metadata": {
    "id": "c9ede0af"
   },
   "source": [
    "### Most popular"
   ]
  },
  {
   "cell_type": "code",
   "execution_count": null,
   "id": "0c5d46b7",
   "metadata": {
    "colab": {
     "base_uri": "https://localhost:8080/"
    },
    "executionInfo": {
     "elapsed": 13,
     "status": "ok",
     "timestamp": 1663334966387,
     "user": {
      "displayName": "Irina Egorova",
      "userId": "04999751906045751774"
     },
     "user_tz": -180
    },
    "id": "0c5d46b7",
    "outputId": "2cc1d080-08b7-45c3-d528-01a00827c901",
    "scrolled": false
   },
   "outputs": [
    {
     "ename": "",
     "evalue": "",
     "output_type": "error",
     "traceback": [
      "\u001b[1;31mRunning cells with 'Python 3.8.9 64-bit' requires ipykernel package.\n",
      "Run the following command to install 'ipykernel' into the Python environment. \n",
      "Command: '/usr/bin/python3 -m pip install ipykernel -U --user --force-reinstall'"
     ]
    }
   ],
   "source": [
    "%timeit tags.most_popular(20)\n",
    "print()\n",
    "most_popular = tags.most_popular(20)\n",
    "\n",
    "print(f'{\"Tag\":<30}Usage number')\n",
    "for key, value in most_popular.items():\n",
    "    print(f'{key:<30}{value}')"
   ]
  },
  {
   "cell_type": "markdown",
   "id": "ffc20c5d",
   "metadata": {
    "id": "ffc20c5d"
   },
   "source": [
    "### Tags with (some word)"
   ]
  },
  {
   "cell_type": "code",
   "execution_count": null,
   "id": "e599ed34",
   "metadata": {
    "colab": {
     "base_uri": "https://localhost:8080/"
    },
    "executionInfo": {
     "elapsed": 17,
     "status": "ok",
     "timestamp": 1663334976361,
     "user": {
      "displayName": "Irina Egorova",
      "userId": "04999751906045751774"
     },
     "user_tz": -180
    },
    "id": "e599ed34",
    "outputId": "44477e7a-3c4f-49ce-ed78-c43c2b982573",
    "scrolled": false
   },
   "outputs": [
    {
     "ename": "",
     "evalue": "",
     "output_type": "error",
     "traceback": [
      "\u001b[1;31mRunning cells with 'Python 3.8.9 64-bit' requires ipykernel package.\n",
      "Run the following command to install 'ipykernel' into the Python environment. \n",
      "Command: '/usr/bin/python3 -m pip install ipykernel -U --user --force-reinstall'"
     ]
    }
   ],
   "source": [
    "word_for_tag = 'history' #тут можно подставить нужное слово\n",
    "\n",
    "%timeit tags.tags_with(word_for_tag)\n",
    "print()\n",
    "\n",
    "tags_with = tags.tags_with(word_for_tag)\n",
    "\n",
    "print(f'Tags with {word_for_tag}\\n---------')\n",
    "for tag in tags_with:\n",
    "    print(tag)"
   ]
  },
  {
   "cell_type": "markdown",
   "id": "8b986e20",
   "metadata": {
    "id": "8b986e20"
   },
   "source": []
  }
 ],
 "metadata": {
  "colab": {
   "provenance": []
  },
  "kernelspec": {
   "display_name": "Python 3 (ipykernel)",
   "language": "python",
   "name": "python3"
  },
  "language_info": {
   "codemirror_mode": {
    "name": "ipython",
    "version": 3
   },
   "file_extension": ".py",
   "mimetype": "text/x-python",
   "name": "python",
   "nbconvert_exporter": "python",
   "pygments_lexer": "ipython3",
   "version": "3.8.9"
  }
 },
 "nbformat": 4,
 "nbformat_minor": 5
}
